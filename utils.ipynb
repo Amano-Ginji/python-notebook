{
 "cells": [
  {
   "cell_type": "code",
   "execution_count": 18,
   "metadata": {
    "collapsed": false
   },
   "outputs": [
    {
     "name": "stdout",
     "output_type": "stream",
     "text": [
      "found, idx 3, val 4.000000\n",
      "not found\n",
      "not found\n",
      "[3, 4]\n",
      "[0, 1]\n",
      "[8, 8]\n",
      "[-1, -1]\n",
      "[-1, -1]\n",
      "[3, 4]\n",
      "[4, 5]\n",
      "[-1, -1]\n",
      "[-1, -1]\n"
     ]
    }
   ],
   "source": [
    "def binary_search(v, lst, lower, upper):\n",
    "    mid = int((lower+upper)/2)\n",
    "    if v == lst[mid]:\n",
    "        return mid\n",
    "    if lower == upper:\n",
    "        return -1\n",
    "    if v > lst[mid]:\n",
    "        lower = int(mid+1)\n",
    "    else:\n",
    "        upper = int(mid)\n",
    "    return binary_search(v, lst, lower, upper)\n",
    "\n",
    "def binary_search_range(v, lst, lower, upper):\n",
    "    mid = int((lower+upper)/2)\n",
    "    if abs(v-lst[mid])<1e-6:\n",
    "        return [mid, min(mid+1, len(lst)-1)]\n",
    "    if lower == upper:\n",
    "        return [-1, -1]\n",
    "    if v > lst[mid]:\n",
    "        lower_nxt = int(mid+1)\n",
    "        if v < lst[lower_nxt]: return [lower_nxt-1, lower_nxt]\n",
    "        else: lower = lower_nxt\n",
    "    if v < lst[mid]:\n",
    "        upper_nxt = int(mid)\n",
    "        if v > lst[upper_nxt]: return [upper_nxt, upper_nxt+1]\n",
    "        else: upper = upper_nxt\n",
    "    return binary_search_range(v, lst, lower, upper)\n",
    "\n",
    "def msg(idx, arr):\n",
    "    if idx != -1:\n",
    "        print(('found, idx %d, val %f' % (idx, arr[idx])))\n",
    "    else:\n",
    "        print('not found')\n",
    "    \n",
    "arr = range(1,10)\n",
    "msg(binary_search(4, arr, 0, len(arr)-1), arr)\n",
    "msg(binary_search(0, arr, 0, len(arr)-1), arr)\n",
    "msg(binary_search(10, arr, 0, len(arr)-1), arr)\n",
    "\n",
    "print binary_search_range(4, arr, 0, len(arr)-1)\n",
    "print binary_search_range(1, arr, 0, len(arr)-1)\n",
    "print binary_search_range(9, arr, 0, len(arr)-1)\n",
    "print binary_search_range(0, arr, 0, len(arr)-1)\n",
    "print binary_search_range(10, arr, 0, len(arr)-1)\n",
    "print binary_search_range(4.5, arr, 0, len(arr)-1)\n",
    "print binary_search_range(5.5, arr, 0, len(arr)-1)\n",
    "print binary_search_range(0.5, arr, 0, len(arr)-1)\n",
    "print binary_search_range(9.5, arr, 0, len(arr)-1)\n",
    "\n"
   ]
  }
 ],
 "metadata": {
  "kernelspec": {
   "display_name": "Python 2",
   "language": "python",
   "name": "python2"
  },
  "language_info": {
   "codemirror_mode": {
    "name": "ipython",
    "version": 2
   },
   "file_extension": ".py",
   "mimetype": "text/x-python",
   "name": "python",
   "nbconvert_exporter": "python",
   "pygments_lexer": "ipython2",
   "version": "2.7.12"
  }
 },
 "nbformat": 4,
 "nbformat_minor": 2
}
