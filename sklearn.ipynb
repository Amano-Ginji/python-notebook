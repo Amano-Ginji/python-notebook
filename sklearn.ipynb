{
 "cells": [
  {
   "cell_type": "code",
   "execution_count": 16,
   "metadata": {
    "collapsed": false
   },
   "outputs": [
    {
     "name": "stdout",
     "output_type": "stream",
     "text": [
      "(10, 4)\n"
     ]
    },
    {
     "data": {
      "text/plain": [
       "array([[ 5.1,  3.5,  1.4],\n",
       "       [ 4.9,  3. ,  1.4],\n",
       "       [ 4.7,  3.2,  1.3],\n",
       "       [ 4.6,  3.1,  1.5],\n",
       "       [ 5. ,  3.6,  1.4],\n",
       "       [ 5.4,  3.9,  1.7],\n",
       "       [ 4.6,  3.4,  1.4],\n",
       "       [ 5. ,  3.4,  1.5],\n",
       "       [ 4.4,  2.9,  1.4],\n",
       "       [ 4.9,  3.1,  1.5]])"
      ]
     },
     "execution_count": 16,
     "metadata": {},
     "output_type": "execute_result"
    }
   ],
   "source": [
    "import numpy as np\n",
    "import scipy\n",
    "\n",
    "from sklearn import cluster\n",
    "from sklearn import datasets\n",
    "\n",
    "iris = datasets.load_iris()\n",
    "\n",
    "rng = range(0, 10)\n",
    "x_iris = iris.data[rng]\n",
    "y_iris = iris.target[rng]\n",
    "\n",
    "print x_iris.shape\n",
    "\n",
    "x_iris = np.delete(x_iris, 3, 1)\n",
    "\n"
   ]
  }
 ],
 "metadata": {
  "kernelspec": {
   "display_name": "Python 2",
   "language": "python",
   "name": "python2"
  },
  "language_info": {
   "codemirror_mode": {
    "name": "ipython",
    "version": 2
   },
   "file_extension": ".py",
   "mimetype": "text/x-python",
   "name": "python",
   "nbconvert_exporter": "python",
   "pygments_lexer": "ipython2",
   "version": "2.7.12"
  }
 },
 "nbformat": 4,
 "nbformat_minor": 2
}
