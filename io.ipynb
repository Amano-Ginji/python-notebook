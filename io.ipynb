{
 "cells": [
  {
   "cell_type": "code",
   "execution_count": 4,
   "metadata": {
    "collapsed": false
   },
   "outputs": [],
   "source": [
    "import os\n",
    "\n",
    "if os.path.exists(\"test\"):\n",
    "    os.rmdir(\"test\")\n",
    "os.mkdir(\"test\")"
   ]
  },
  {
   "cell_type": "code",
   "execution_count": 4,
   "metadata": {
    "collapsed": false,
    "scrolled": true
   },
   "outputs": [
    {
     "name": "stdout",
     "output_type": "stream",
     "text": [
      "['hdfs://localhost:9000/user/yaowq/tensorflow/lr/data/train/part-00000\\n', 'hdfs://localhost:9000/user/yaowq/tensorflow/lr/data/train/part-00001\\n', 'hdfs://localhost:9000/user/yaowq/tensorflow/lr/data/train/part-00002\\n', 'hdfs://localhost:9000/user/yaowq/tensorflow/lr/data/train/part-00003\\n', 'hdfs://localhost:9000/user/yaowq/tensorflow/lr/data/train/part-00004\\n']\n",
      "hdfs://localhost:9000/user/yaowq/tensorflow/lr/data/train/part-00000\n",
      "\n",
      "hdfs://localhost:9000/user/yaowq/tensorflow/lr/data/train/part-00001\n",
      "\n",
      "hdfs://localhost:9000/user/yaowq/tensorflow/lr/data/train/part-00002\n",
      "\n",
      "hdfs://localhost:9000/user/yaowq/tensorflow/lr/data/train/part-00003\n",
      "\n",
      "hdfs://localhost:9000/user/yaowq/tensorflow/lr/data/train/part-00004\n",
      "\n"
     ]
    }
   ],
   "source": [
    "import tensorflow as tf\n",
    "\n",
    "hdfs_input = 'hdfs://localhost:9000/user/yaowq/tensorflow/lr/data/train_file_list'\n",
    "\n",
    "input_gfile = tf.gfile.GFile(hdfs_input, 'r')\n",
    "lines = input_gfile.readlines()\n",
    "print(lines)\n",
    "for line in lines:\n",
    "    print(line)\n",
    "    \n"
   ]
  },
  {
   "cell_type": "code",
   "execution_count": 9,
   "metadata": {
    "collapsed": false
   },
   "outputs": [
    {
     "name": "stdout",
     "output_type": "stream",
     "text": [
      "[1, 4, 7]\n"
     ]
    }
   ],
   "source": [
    "a = range(0,10)\n",
    "b = a[1:10:3]\n",
    "print b"
   ]
  }
 ],
 "metadata": {
  "kernelspec": {
   "display_name": "Python 2",
   "language": "python",
   "name": "python2"
  },
  "language_info": {
   "codemirror_mode": {
    "name": "ipython",
    "version": 2
   },
   "file_extension": ".py",
   "mimetype": "text/x-python",
   "name": "python",
   "nbconvert_exporter": "python",
   "pygments_lexer": "ipython2",
   "version": "2.7.12"
  }
 },
 "nbformat": 4,
 "nbformat_minor": 2
}
