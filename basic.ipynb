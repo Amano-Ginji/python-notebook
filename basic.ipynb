{
 "cells": [
  {
   "cell_type": "code",
   "execution_count": 51,
   "metadata": {
    "collapsed": false,
    "scrolled": true
   },
   "outputs": [
    {
     "name": "stdout",
     "output_type": "stream",
     "text": [
      "0, 1, 2, 3, 4, 5, 6, 7, 8, 9\n",
      "[2, 3, 4, 5, 6, 7, 8, 9, 10, 11, 12, 13, 14, 15, 16, 17, 18, 19]\n",
      "0\n",
      "[3, 5, 7, 9]\n",
      "False\n",
      "0.534695566268\n",
      "[11 15 19 13  6]\n",
      "2\n",
      "18\n",
      "1\n",
      "<type 'int'>\n"
     ]
    }
   ],
   "source": [
    "print str([x for x in range(0, 10)])[1:-1]\n",
    "\n",
    "a = range(2,20)\n",
    "print(a)\n",
    "print(a.index(2))\n",
    "\n",
    "print a[1:9:2]\n",
    "\n",
    "b = []\n",
    "c = b[0:0]\n",
    "\n",
    "print type(c) == None\n",
    "\n",
    "import random\n",
    "print random.random()\n",
    "\n",
    "import numpy as np\n",
    "print np.random.choice(a, size=5, replace=False)\n",
    "print max(2,1)\n",
    "print np.shape(a)[0]\n",
    "\n",
    "print int(1.1)\n",
    "\n"
   ]
  },
  {
   "cell_type": "code",
   "execution_count": 10,
   "metadata": {
    "collapsed": false,
    "scrolled": true
   },
   "outputs": [
    {
     "name": "stdout",
     "output_type": "stream",
     "text": [
      "[0.0001239776611328125, 0.00012111663818359375, 0.00023508071899414062, 0.00012087821960449219, 0.00011992454528808594, 0.000244140625, 0.00012111663818359375, 0.00012087821960449219, 0.00023484230041503906, 0.0001220703125, 0.0001201629638671875, 0.00011992454528808594, 0.0003268718719482422, 0.00012111663818359375, 0.014333009719848633, 0.00013589859008789062, 0.00033092498779296875, 0.00012183189392089844, 0.005527973175048828, 0.0004210472106933594]\n"
     ]
    }
   ],
   "source": [
    "import timeit\n",
    "\n",
    "tm = timeit.Timer(\"-\".join([str(x) for x in range(0,100000)]))\n",
    "print tm.repeat(20, 1)"
   ]
  },
  {
   "cell_type": "code",
   "execution_count": 12,
   "metadata": {
    "collapsed": false
   },
   "outputs": [
    {
     "name": "stdout",
     "output_type": "stream",
     "text": [
      "1\n"
     ]
    }
   ],
   "source": [
    "from multiprocessing import cpu_count\n",
    "\n",
    "print(cpu_count())"
   ]
  },
  {
   "cell_type": "code",
   "execution_count": null,
   "metadata": {
    "collapsed": true
   },
   "outputs": [],
   "source": [
    "print \"-----------------\"\n",
    "print(time.timezone)\n",
    "\n",
    "from datetime import *\n",
    "import time\n",
    "import pytz\n",
    "ts = time.time()\n",
    "tz = pytz.timezone('Asia/Shanghai')\n",
    "ts2 = datetime.fromtimestamp(ts,tz)\n",
    "print(\"%d %s\" % (ts, ts2))\n",
    "\n",
    "t = time.strftime('%Y-%m-%d %H-%M-%S',time.localtime(time.time()))\n",
    "print t\n",
    "\n",
    "print datetime.utcnow().astimezone(tzinfo('Asia/Shanghai'))\n",
    "print \"%s\" % datetime.now()\n",
    "\n",
    "print '--------'\n",
    "utc_dt = datetime.utcnow().replace(tzinfo=timezone.utc)\n",
    "print(utc_dt)\n",
    "\n",
    "bj_dt = utc_dt.astimezone(timezone(timedelta(hours=8)))\n",
    "print(bj_dt)"
   ]
  }
 ],
 "metadata": {
  "kernelspec": {
   "display_name": "Python 2",
   "language": "python",
   "name": "python2"
  },
  "language_info": {
   "codemirror_mode": {
    "name": "ipython",
    "version": 2
   },
   "file_extension": ".py",
   "mimetype": "text/x-python",
   "name": "python",
   "nbconvert_exporter": "python",
   "pygments_lexer": "ipython2",
   "version": "2.7.12"
  }
 },
 "nbformat": 4,
 "nbformat_minor": 2
}
