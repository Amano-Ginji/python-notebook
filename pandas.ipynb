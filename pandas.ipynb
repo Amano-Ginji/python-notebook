{
 "cells": [
  {
   "cell_type": "code",
   "execution_count": 3,
   "metadata": {
    "collapsed": false
   },
   "outputs": [
    {
     "data": {
      "text/html": [
       "<div>\n",
       "<table border=\"1\" class=\"dataframe\">\n",
       "  <thead>\n",
       "    <tr style=\"text-align: right;\">\n",
       "      <th></th>\n",
       "      <th>time</th>\n",
       "      <th>airline</th>\n",
       "      <th>responsetime</th>\n",
       "      <th>sourcetype</th>\n",
       "    </tr>\n",
       "  </thead>\n",
       "  <tbody>\n",
       "    <tr>\n",
       "      <th>0</th>\n",
       "      <td>2014-06-23 00:00:00Z</td>\n",
       "      <td>AAL</td>\n",
       "      <td>132.2046</td>\n",
       "      <td>farequote</td>\n",
       "    </tr>\n",
       "    <tr>\n",
       "      <th>1</th>\n",
       "      <td>2014-06-23 00:00:00Z</td>\n",
       "      <td>JZA</td>\n",
       "      <td>990.4628</td>\n",
       "      <td>farequote</td>\n",
       "    </tr>\n",
       "    <tr>\n",
       "      <th>2</th>\n",
       "      <td>2014-06-23 00:00:00Z</td>\n",
       "      <td>JBU</td>\n",
       "      <td>877.5927</td>\n",
       "      <td>farequote</td>\n",
       "    </tr>\n",
       "    <tr>\n",
       "      <th>3</th>\n",
       "      <td>2014-06-23 00:00:00Z</td>\n",
       "      <td>KLM</td>\n",
       "      <td>1355.4812</td>\n",
       "      <td>farequote</td>\n",
       "    </tr>\n",
       "    <tr>\n",
       "      <th>4</th>\n",
       "      <td>2014-06-23 00:00:00Z</td>\n",
       "      <td>NKS</td>\n",
       "      <td>9991.3981</td>\n",
       "      <td>farequote</td>\n",
       "    </tr>\n",
       "  </tbody>\n",
       "</table>\n",
       "</div>"
      ],
      "text/plain": [
       "                   time airline  responsetime sourcetype\n",
       "0  2014-06-23 00:00:00Z     AAL      132.2046  farequote\n",
       "1  2014-06-23 00:00:00Z     JZA      990.4628  farequote\n",
       "2  2014-06-23 00:00:00Z     JBU      877.5927  farequote\n",
       "3  2014-06-23 00:00:00Z     KLM     1355.4812  farequote\n",
       "4  2014-06-23 00:00:00Z     NKS     9991.3981  farequote"
      ]
     },
     "execution_count": 3,
     "metadata": {},
     "output_type": "execute_result"
    }
   ],
   "source": [
    "import numpy as np\n",
    "import pandas as pd\n",
    "\n",
    "df = pd.read_csv('data/farequote.csv', sep=',', header=0)\n",
    "df.head(5)"
   ]
  },
  {
   "cell_type": "code",
   "execution_count": 20,
   "metadata": {
    "collapsed": false
   },
   "outputs": [],
   "source": [
    "df.describe()"
   ]
  },
  {
   "cell_type": "code",
   "execution_count": 9,
   "metadata": {
    "collapsed": false
   },
   "outputs": [
    {
     "data": {
      "text/plain": [
       "array(['AAL', 'ACA', 'AMX', 'ASA', 'AWE', 'BAW', 'DAL', 'EGF', 'FFT',\n",
       "       'JAL', 'JBU', 'JZA', 'KLM', 'NKS', 'SWA', 'SWR', 'TRS', 'UAL', 'VRD'], dtype=object)"
      ]
     },
     "execution_count": 9,
     "metadata": {},
     "output_type": "execute_result"
    }
   ],
   "source": [
    "np.unique(df.airline)"
   ]
  },
  {
   "cell_type": "code",
   "execution_count": 21,
   "metadata": {
    "collapsed": false
   },
   "outputs": [
    {
     "data": {
      "text/plain": [
       "count    86275.000000\n",
       "mean       549.492172\n",
       "std       1449.437637\n",
       "min          4.252500\n",
       "25%         20.739200\n",
       "50%        187.903800\n",
       "75%        406.406400\n",
       "max      10334.943000\n",
       "Name: responsetime, dtype: float64"
      ]
     },
     "execution_count": 21,
     "metadata": {},
     "output_type": "execute_result"
    }
   ],
   "source": [
    "dd = df.query('airline==\"KLM\"') ## 得到法航的数据\n",
    "dd.responsetime.describe()"
   ]
  }
 ],
 "metadata": {
  "kernelspec": {
   "display_name": "Python 2",
   "language": "python",
   "name": "python2"
  },
  "language_info": {
   "codemirror_mode": {
    "name": "ipython",
    "version": 2
   },
   "file_extension": ".py",
   "mimetype": "text/x-python",
   "name": "python",
   "nbconvert_exporter": "python",
   "pygments_lexer": "ipython2",
   "version": "2.7.12"
  }
 },
 "nbformat": 4,
 "nbformat_minor": 2
}
